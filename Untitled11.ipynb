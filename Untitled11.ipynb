{
  "nbformat": 4,
  "nbformat_minor": 0,
  "metadata": {
    "colab": {
      "name": "Untitled11.ipynb",
      "provenance": []
    },
    "kernelspec": {
      "name": "python3",
      "display_name": "Python 3"
    },
    "language_info": {
      "name": "python"
    }
  },
  "cells": [
    {
      "cell_type": "code",
      "source": [
        "#Write a Python function to sum all the numbers in a list.\n",
        "list=[int(x) for x in input().split()]       #input list from the user\n",
        "def sum(list):\n",
        "\n",
        "   total = 0                                 \n",
        "\n",
        "   for x in list:\n",
        "\n",
        "       total += x\n",
        "\n",
        "   return total\n",
        "\n",
        "print(list)\n",
        "print(sum(list))\n",
        "\n"
      ],
      "metadata": {
        "colab": {
          "base_uri": "https://localhost:8080/"
        },
        "id": "3ysn9m2zdwvv",
        "outputId": "67cecdbf-576b-4655-e5ca-723bef0995a3"
      },
      "execution_count": 7,
      "outputs": [
        {
          "output_type": "stream",
          "name": "stdout",
          "text": [
            "50 5 25 25\n",
            "[50, 5, 25, 25]\n",
            "105\n"
          ]
        }
      ]
    },
    {
      "cell_type": "code",
      "source": [
        "list=[int(x) for x in input().split()]       #input list from the user\n",
        "def sum(list):\n",
        "\n",
        "   total = 0                                 \n",
        "\n",
        "   for x in list:\n",
        "\n",
        "       total += x\n",
        "\n",
        "   return total\n",
        "\n",
        "print(list)\n",
        "print(sum(list))"
      ],
      "metadata": {
        "colab": {
          "base_uri": "https://localhost:8080/"
        },
        "id": "ijkdQZAoeCUT",
        "outputId": "460d1847-6b0f-4852-fc61-c84d6f4e1a1e"
      },
      "execution_count": 8,
      "outputs": [
        {
          "output_type": "stream",
          "name": "stdout",
          "text": [
            "8 2 3 0 7\n",
            "[8, 2, 3, 0, 7]\n",
            "20\n"
          ]
        }
      ]
    },
    {
      "cell_type": "code",
      "source": [],
      "metadata": {
        "id": "4Wd96Rmne-LY"
      },
      "execution_count": null,
      "outputs": []
    }
  ]
}