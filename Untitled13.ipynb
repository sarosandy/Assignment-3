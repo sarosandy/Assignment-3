{
  "nbformat": 4,
  "nbformat_minor": 0,
  "metadata": {
    "colab": {
      "name": "Untitled13.ipynb",
      "provenance": []
    },
    "kernelspec": {
      "name": "python3",
      "display_name": "Python 3"
    },
    "language_info": {
      "name": "python"
    }
  },
  "cells": [
    {
      "cell_type": "code",
      "execution_count": 24,
      "metadata": {
        "colab": {
          "base_uri": "https://localhost:8080/"
        },
        "id": "FU_FnlabzXBX",
        "outputId": "6b9dbfa1-e552-4df5-81c7-7a61d82f26c6"
      },
      "outputs": [
        {
          "output_type": "stream",
          "name": "stdout",
          "text": [
            "Enter the string The quick Brow Fox\n",
            "\n",
            "Number of lower case:  12\n",
            "Number of upper case:  3\n"
          ]
        }
      ],
      "source": [
        "\n",
        "#Write a Python function that accepts a string and \n",
        "#calculate the number of upper case letters and lower case letters.\n",
        " #Sample String : 'The quick Brow Fox'\n",
        " #Expected Output :\n",
        " #No. of Upper case characters : 3\n",
        " #No. of Lower case Characters : 12\n",
        "\n",
        "word=input(\"Enter the string \")       #user input\n",
        "\n",
        "def char(word):\n",
        "  lower=0\n",
        "  upper=0\n",
        "  for i in word:\n",
        "    if i>=\"a\" and i<=\"z\":              \n",
        "      lower+=1\n",
        "\n",
        "    if i>=\"A\" and i<=\"Z\":\n",
        "      upper+=1\n",
        "\n",
        "  \n",
        "  print(\"\\nNumber of lower case: \",lower )\n",
        "  print(\"Number of upper case: \" ,upper)  \n",
        "char(word)      "
      ]
    },
    {
      "cell_type": "code",
      "source": [],
      "metadata": {
        "id": "BgCVMyTt794E"
      },
      "execution_count": null,
      "outputs": []
    }
  ]
}